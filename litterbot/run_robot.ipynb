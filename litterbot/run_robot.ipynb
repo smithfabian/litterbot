{
 "cells": [
  {
   "cell_type": "markdown",
   "metadata": {},
   "source": [
    "Make sure that we are in the litterbot package"
   ]
  },
  {
   "cell_type": "code",
   "execution_count": 1,
   "metadata": {},
   "outputs": [],
   "source": [
    "import os\n",
    "\n",
    "if os.getcwd() == \"/workspace\":\n",
    "    os.chdir('litterbot/litterbot/')"
   ]
  },
  {
   "cell_type": "markdown",
   "metadata": {},
   "source": [
    "Create widget sliders for controlling PID gains"
   ]
  },
  {
   "cell_type": "code",
   "execution_count": 2,
   "metadata": {},
   "outputs": [
    {
     "data": {
      "application/vnd.jupyter.widget-view+json": {
       "model_id": "cffdd3d2b44b46169ae00aac62c27bfc",
       "version_major": 2,
       "version_minor": 0
      },
      "text/plain": [
       "HBox(children=(FloatSlider(value=0.0, description='speed', max=0.5, orientation='vertical', step=0.01), FloatS…"
      ]
     },
     "metadata": {},
     "output_type": "display_data"
    }
   ],
   "source": [
    "from IPython.display import display\n",
    "import ipywidgets.widgets as widgets\n",
    "\n",
    "\n",
    "blocked_slider = widgets.FloatSlider(description='blocked', min=0.0, max=1.0, orientation='vertical')\n",
    "speed_slider = widgets.FloatSlider(description='speed', min=0.0, max=0.5, value=0.0, step=0.01, orientation='vertical')\n",
    "steering_bias = widgets.FloatSlider(description='steering_bias', min=-1.0, max=1.0, value=0.0, step=0.01, orientation='vertical')\n",
    "p_gain = widgets.FloatSlider(description='P gain', min=0.0, max=0.1, value=0.0, step=0.005, orientation='vertical')\n",
    "i_gain = widgets.FloatSlider(description='I gain', min=0.0, max=0.1, value=0.0, step=0.005, orientation='vertical')\n",
    "d_gain = widgets.FloatSlider(description='D gain', min=0.0, max=0.1, value=0.0, step=0.005, orientation='vertical')\n",
    "\n",
    "\n",
    "display(widgets.HBox([speed_slider, steering_bias, p_gain, i_gain, d_gain]))"
   ]
  },
  {
   "cell_type": "markdown",
   "metadata": {},
   "source": [
    "Import and initialise the central controller"
   ]
  },
  {
   "cell_type": "code",
   "execution_count": 3,
   "metadata": {},
   "outputs": [],
   "source": [
    "from importlib import reload\n",
    "\n",
    "import main\n",
    "reload(main)\n",
    "from main import CentralController, Sliders\n",
    "\n",
    "\n",
    "cc = CentralController(speed=speed_slider, steering_bias=steering_bias, p_gain=p_gain, i_gain=i_gain, d_gain=d_gain)"
   ]
  },
  {
   "cell_type": "code",
   "execution_count": 5,
   "metadata": {},
   "outputs": [],
   "source": [
    "import time\n",
    "import numpy as np"
   ]
  },
  {
   "cell_type": "code",
   "execution_count": null,
   "metadata": {},
   "outputs": [],
   "source": []
  },
  {
   "cell_type": "code",
   "execution_count": 34,
   "metadata": {},
   "outputs": [],
   "source": [
    "# speed1 = 0.178 # between 0 and 1\n",
    "speed1 = 0.25\n",
    "speed2 = 0.25\n",
    "distance = 1\n",
    "# distance = 1 * 2 * np.pi # m\n",
    "mps1 = cc.robot.meter_per_second(speed1) # meters per sec\n",
    "mps2 = cc.robot.meter_per_second(speed2) # meters per sec\n",
    "\n",
    "t = distance / ((mps1 + mps2) / 2) # sec\n",
    "\n",
    "cc.robot.set_motors(speed1, speed2)\n",
    "cc.on_motor_value_change(speed1, speed2)\n",
    "time.sleep(t)\n",
    "cc.robot.stop()\n",
    "cc.on_motor_value_change(0, 0)"
   ]
  },
  {
   "cell_type": "code",
   "execution_count": 36,
   "metadata": {},
   "outputs": [],
   "source": [
    "cc.last_update_time = None"
   ]
  },
  {
   "cell_type": "code",
   "execution_count": 30,
   "metadata": {},
   "outputs": [],
   "source": [
    "cc.on_motor_value_change()"
   ]
  },
  {
   "cell_type": "code",
   "execution_count": 35,
   "metadata": {},
   "outputs": [
    {
     "data": {
      "text/plain": [
       "(6.173682837905344e-17, 1.0082389211654663, 1.5707963267948966)"
      ]
     },
     "execution_count": 35,
     "metadata": {},
     "output_type": "execute_result"
    }
   ],
   "source": [
    "cc.x,cc.y,cc.theta"
   ]
  },
  {
   "cell_type": "code",
   "execution_count": 32,
   "metadata": {},
   "outputs": [],
   "source": [
    "cc.theta = 90 * np.pi / 180  # 45° × π/180 "
   ]
  },
  {
   "cell_type": "code",
   "execution_count": 30,
   "metadata": {},
   "outputs": [
    {
     "data": {
      "text/plain": [
       "(0, 0, 0)"
      ]
     },
     "execution_count": 30,
     "metadata": {},
     "output_type": "execute_result"
    }
   ],
   "source": [
    "cc.x,cc.y,cc.theta = 0, 0, 0\n",
    "cc.x,cc.y,cc.theta"
   ]
  },
  {
   "cell_type": "code",
   "execution_count": 5,
   "metadata": {},
   "outputs": [],
   "source": [
    "cc.robot.stop()"
   ]
  },
  {
   "cell_type": "code",
   "execution_count": null,
   "metadata": {},
   "outputs": [],
   "source": [
    "cc.has_collision_avoidance = True\n",
    "cc.has_path_finder = True"
   ]
  },
  {
   "cell_type": "markdown",
   "metadata": {},
   "source": [
    "Start the central controller"
   ]
  },
  {
   "cell_type": "code",
   "execution_count": 4,
   "metadata": {},
   "outputs": [],
   "source": [
    "cc.start()"
   ]
  },
  {
   "cell_type": "markdown",
   "metadata": {},
   "source": [
    "Stop the robot by calling cc.stop()"
   ]
  },
  {
   "cell_type": "code",
   "execution_count": 6,
   "metadata": {},
   "outputs": [],
   "source": [
    "cc.stop()"
   ]
  },
  {
   "cell_type": "code",
   "execution_count": 7,
   "metadata": {},
   "outputs": [],
   "source": [
    "cc.camera.thread.join()"
   ]
  },
  {
   "cell_type": "code",
   "execution_count": 11,
   "metadata": {},
   "outputs": [],
   "source": [
    "cc.robot.default_speed = 0.1"
   ]
  },
  {
   "cell_type": "code",
   "execution_count": 7,
   "metadata": {},
   "outputs": [],
   "source": [
    "cc.robot.stop()"
   ]
  },
  {
   "cell_type": "code",
   "execution_count": 10,
   "metadata": {},
   "outputs": [
    {
     "data": {
      "text/plain": [
       "array([[[ 88,   5, 150],\n",
       "        [102,  67, 159],\n",
       "        [102,  88, 186],\n",
       "        ...,\n",
       "        [100, 100, 164],\n",
       "        [103,  92, 173],\n",
       "        [104,  85, 178]],\n",
       "\n",
       "       [[101,  85, 163],\n",
       "        [ 93,  85, 158],\n",
       "        [ 96,  87, 164],\n",
       "        ...,\n",
       "        [105,  92, 161],\n",
       "        [106,  86, 158],\n",
       "        [109,  86, 165]],\n",
       "\n",
       "       [[ 89,  87, 156],\n",
       "        [ 93,  86, 156],\n",
       "        [ 83,  75, 148],\n",
       "        ...,\n",
       "        [101,  91, 159],\n",
       "        [106,  86, 158],\n",
       "        [108,  85, 160]],\n",
       "\n",
       "       ...,\n",
       "\n",
       "       [[ 74,  70, 147],\n",
       "        [ 76,  66, 146],\n",
       "        [ 78,  62, 141],\n",
       "        ...,\n",
       "        [ 77,  74, 146],\n",
       "        [ 78,  66, 153],\n",
       "        [ 73,  71, 152]],\n",
       "\n",
       "       [[ 75,  72, 149],\n",
       "        [ 79,  68, 152],\n",
       "        [ 77,  55, 144],\n",
       "        ...,\n",
       "        [ 74,  76, 147],\n",
       "        [ 75,  71, 148],\n",
       "        [ 70,  71, 157]],\n",
       "\n",
       "       [[ 71,  73, 145],\n",
       "        [ 67,  71, 136],\n",
       "        [ 77,  60, 142],\n",
       "        ...,\n",
       "        [ 76,  79, 146],\n",
       "        [ 73,  74, 147],\n",
       "        [ 82,  76, 151]]], dtype=uint8)"
      ]
     },
     "execution_count": 10,
     "metadata": {},
     "output_type": "execute_result"
    }
   ],
   "source": [
    "cc.camera.value"
   ]
  },
  {
   "cell_type": "code",
   "execution_count": null,
   "metadata": {},
   "outputs": [],
   "source": []
  }
 ],
 "metadata": {
  "kernelspec": {
   "display_name": "Python 3",
   "language": "python",
   "name": "python3"
  },
  "language_info": {
   "codemirror_mode": {
    "name": "ipython",
    "version": 3
   },
   "file_extension": ".py",
   "mimetype": "text/x-python",
   "name": "python",
   "nbconvert_exporter": "python",
   "pygments_lexer": "ipython3",
   "version": "3.6.9"
  }
 },
 "nbformat": 4,
 "nbformat_minor": 4
}
