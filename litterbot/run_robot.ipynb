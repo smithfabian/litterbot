{
 "cells": [
  {
   "cell_type": "markdown",
   "metadata": {},
   "source": [
    "Make sure that we are in the litterbot package"
   ]
  },
  {
   "cell_type": "code",
   "execution_count": null,
   "metadata": {},
   "outputs": [],
   "source": [
    "import os\n",
    "\n",
    "if os.getcwd() == \"/workspace\":\n",
    "    os.chdir('litterbot/litterbot/')"
   ]
  },
  {
   "cell_type": "markdown",
   "metadata": {},
   "source": [
    "Create widget sliders for controlling PID gains"
   ]
  },
  {
   "cell_type": "code",
   "execution_count": null,
   "metadata": {},
   "outputs": [],
   "source": [
    "from IPython.display import display\n",
    "import ipywidgets.widgets as widgets\n",
    "\n",
    "\n",
    "blocked_slider = widgets.FloatSlider(description='blocked', min=0.0, max=1.0, orientation='vertical')\n",
    "speed_slider = widgets.FloatSlider(description='speed', min=0.0, max=0.5, value=0.0, step=0.01, orientation='vertical')\n",
    "steering_bias = widgets.FloatSlider(description='steering_bias', min=-1.0, max=1.0, value=0.0, step=0.01, orientation='vertical')\n",
    "p_gain = widgets.FloatSlider(description='P gain', min=0.0, max=0.1, value=0.0, step=0.005, orientation='vertical')\n",
    "i_gain = widgets.FloatSlider(description='I gain', min=0.0, max=0.1, value=0.0, step=0.005, orientation='vertical')\n",
    "d_gain = widgets.FloatSlider(description='D gain', min=0.0, max=0.1, value=0.0, step=0.005, orientation='vertical')\n",
    "\n",
    "\n",
    "display(widgets.HBox([speed_slider, steering_bias, p_gain, i_gain, d_gain]))"
   ]
  },
  {
   "cell_type": "markdown",
   "metadata": {},
   "source": [
    "Import and initialise the central controller"
   ]
  },
  {
   "cell_type": "code",
   "execution_count": null,
   "metadata": {},
   "outputs": [],
   "source": [
    "from importlib import reload\n",
    "\n",
    "import main\n",
    "reload(main)\n",
    "from main import CentralController, CentralControllerSliders\n",
    "\n",
    "# cc = CentralController()  # This is the default controller\n",
    "\n",
    "# This controller uses the sliders above\n",
    "cc = CentralControllerSliders(speed=speed_slider, steering_bias=steering_bias, p_gain=p_gain, i_gain=i_gain, d_gain=d_gain)"
   ]
  },
  {
   "cell_type": "markdown",
   "metadata": {},
   "source": [
    "Start the robot"
   ]
  },
  {
   "cell_type": "code",
   "execution_count": null,
   "metadata": {},
   "outputs": [],
   "source": [
    "cc.start()"
   ]
  },
  {
   "cell_type": "markdown",
   "metadata": {},
   "source": [
    "Stop the robot"
   ]
  },
  {
   "cell_type": "code",
   "execution_count": null,
   "metadata": {},
   "outputs": [],
   "source": [
    "cc.stop()"
   ]
  }
 ],
 "metadata": {
  "kernelspec": {
   "display_name": "Python 3",
   "language": "python",
   "name": "python3"
  },
  "language_info": {
   "codemirror_mode": {
    "name": "ipython",
    "version": 3
   },
   "file_extension": ".py",
   "mimetype": "text/x-python",
   "name": "python",
   "nbconvert_exporter": "python",
   "pygments_lexer": "ipython3",
   "version": "3.6.9"
  }
 },
 "nbformat": 4,
 "nbformat_minor": 4
}
