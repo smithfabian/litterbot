{
 "cells": [
  {
   "cell_type": "markdown",
   "metadata": {},
   "source": [
    "Make sure that we are in the litterbot package"
   ]
  },
  {
   "cell_type": "code",
   "execution_count": 1,
   "metadata": {},
   "outputs": [],
   "source": [
    "import os\n",
    "\n",
    "if os.getcwd() == \"/workspace\":\n",
    "    os.chdir('litterbot/litterbot/')"
   ]
  },
  {
   "cell_type": "markdown",
   "metadata": {},
   "source": [
    "Create widget sliders for controlling PID gains"
   ]
  },
  {
   "cell_type": "code",
   "execution_count": 3,
   "metadata": {},
   "outputs": [
    {
     "data": {
      "application/vnd.jupyter.widget-view+json": {
       "model_id": "fe810f84e6dc4116a1e9b9db859e2dd2",
       "version_major": 2,
       "version_minor": 0
      },
      "text/plain": [
       "HBox(children=(FloatSlider(value=0.0, description='speed', max=0.5, orientation='vertical', step=0.01), FloatS…"
      ]
     },
     "metadata": {},
     "output_type": "display_data"
    }
   ],
   "source": [
    "from IPython.display import display\n",
    "import ipywidgets.widgets as widgets\n",
    "\n",
    "\n",
    "blocked_slider = widgets.FloatSlider(description='blocked', min=0.0, max=1.0, orientation='vertical')\n",
    "speed_slider = widgets.FloatSlider(description='speed', min=0.0, max=0.5, value=0.0, step=0.01, orientation='vertical')\n",
    "steering_bias = widgets.FloatSlider(description='steering_bias', min=-1.0, max=1.0, value=0.0, step=0.01, orientation='vertical')\n",
    "p_gain = widgets.FloatSlider(description='P gain', min=0.0, max=0.1, value=0.0, step=0.005, orientation='vertical')\n",
    "i_gain = widgets.FloatSlider(description='I gain', min=0.0, max=0.1, value=0.0, step=0.005, orientation='vertical')\n",
    "d_gain = widgets.FloatSlider(description='D gain', min=0.0, max=0.1, value=0.0, step=0.005, orientation='vertical')\n",
    "\n",
    "\n",
    "display(widgets.HBox([speed_slider, steering_bias, p_gain, i_gain, d_gain]))"
   ]
  },
  {
   "cell_type": "markdown",
   "metadata": {},
   "source": [
    "Import and initialise the central controller"
   ]
  },
  {
   "cell_type": "code",
   "execution_count": 4,
   "metadata": {},
   "outputs": [],
   "source": [
    "from importlib import reload\n",
    "\n",
    "import main\n",
    "reload(main)\n",
    "from main import CentralController, Sliders\n",
    "\n",
    "\n",
    "cc = CentralController(speed=speed_slider, steering_bias=steering_bias, p_gain=p_gain, i_gain=i_gain, d_gain=d_gain)"
   ]
  },
  {
   "cell_type": "code",
   "execution_count": 5,
   "metadata": {},
   "outputs": [],
   "source": [
    "import time\n",
    "import numpy as np"
   ]
  },
  {
   "cell_type": "code",
   "execution_count": null,
   "metadata": {},
   "outputs": [],
   "source": []
  },
  {
   "cell_type": "code",
   "execution_count": 34,
   "metadata": {},
   "outputs": [],
   "source": [
    "# speed1 = 0.178 # between 0 and 1\n",
    "speed1 = 0.25\n",
    "speed2 = 0.25\n",
    "distance = 1\n",
    "# distance = 1 * 2 * np.pi # m\n",
    "mps1 = cc.robot.meter_per_second(speed1) # meters per sec\n",
    "mps2 = cc.robot.meter_per_second(speed2) # meters per sec\n",
    "\n",
    "t = distance / ((mps1 + mps2) / 2) # sec\n",
    "\n",
    "cc.robot.set_motors(speed1, speed2)\n",
    "cc.on_motor_value_change(speed1, speed2)\n",
    "time.sleep(t)\n",
    "cc.robot.stop()\n",
    "cc.on_motor_value_change(0, 0)"
   ]
  },
  {
   "cell_type": "code",
   "execution_count": 36,
   "metadata": {},
   "outputs": [],
   "source": [
    "cc.last_update_time = None"
   ]
  },
  {
   "cell_type": "code",
   "execution_count": 30,
   "metadata": {},
   "outputs": [],
   "source": [
    "cc.on_motor_value_change()"
   ]
  },
  {
   "cell_type": "code",
   "execution_count": 35,
   "metadata": {},
   "outputs": [
    {
     "data": {
      "text/plain": [
       "(6.173682837905344e-17, 1.0082389211654663, 1.5707963267948966)"
      ]
     },
     "execution_count": 35,
     "metadata": {},
     "output_type": "execute_result"
    }
   ],
   "source": [
    "cc.x,cc.y,cc.theta"
   ]
  },
  {
   "cell_type": "code",
   "execution_count": 32,
   "metadata": {},
   "outputs": [],
   "source": [
    "cc.theta = 90 * np.pi / 180  # 45° × π/180 "
   ]
  },
  {
   "cell_type": "code",
   "execution_count": 30,
   "metadata": {},
   "outputs": [
    {
     "data": {
      "text/plain": [
       "(0, 0, 0)"
      ]
     },
     "execution_count": 30,
     "metadata": {},
     "output_type": "execute_result"
    }
   ],
   "source": [
    "cc.x,cc.y,cc.theta = 0, 0, 0\n",
    "cc.x,cc.y,cc.theta"
   ]
  },
  {
   "cell_type": "code",
   "execution_count": 19,
   "metadata": {},
   "outputs": [],
   "source": [
    "cc.robot.stop()"
   ]
  },
  {
   "cell_type": "code",
   "execution_count": null,
   "metadata": {},
   "outputs": [],
   "source": [
    "cc.has_collision_avoidance = True\n",
    "cc.has_path_finder = True"
   ]
  },
  {
   "cell_type": "markdown",
   "metadata": {},
   "source": [
    "Start the central controller"
   ]
  },
  {
   "cell_type": "code",
   "execution_count": null,
   "metadata": {},
   "outputs": [],
   "source": [
    "cc.start()"
   ]
  },
  {
   "cell_type": "markdown",
   "metadata": {},
   "source": [
    "Stop the robot by calling cc.stop()"
   ]
  },
  {
   "cell_type": "code",
   "execution_count": 44,
   "metadata": {},
   "outputs": [],
   "source": [
    "cc.stop()"
   ]
  },
  {
   "cell_type": "code",
   "execution_count": 21,
   "metadata": {},
   "outputs": [],
   "source": [
    "cc.camera.stop()"
   ]
  },
  {
   "cell_type": "code",
   "execution_count": null,
   "metadata": {},
   "outputs": [],
   "source": []
  }
 ],
 "metadata": {
  "kernelspec": {
   "display_name": "Python 3",
   "language": "python",
   "name": "python3"
  },
  "language_info": {
   "codemirror_mode": {
    "name": "ipython",
    "version": 3
   },
   "file_extension": ".py",
   "mimetype": "text/x-python",
   "name": "python",
   "nbconvert_exporter": "python",
   "pygments_lexer": "ipython3",
   "version": "3.6.9"
  }
 },
 "nbformat": 4,
 "nbformat_minor": 4
}
